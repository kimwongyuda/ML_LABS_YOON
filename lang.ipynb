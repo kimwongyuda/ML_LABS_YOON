{
 "cells": [
  {
   "cell_type": "code",
   "execution_count": 13,
   "metadata": {},
   "outputs": [
    {
     "name": "stdout",
     "output_type": "stream",
     "text": [
      "정확도:  0.875\n",
      "--- report ---\n",
      "             precision    recall  f1-score   support\n",
      "\n",
      "         en       0.67      1.00      0.80         2\n",
      "         fr       1.00      1.00      1.00         2\n",
      "         id       1.00      0.50      0.67         2\n",
      "         tl       1.00      1.00      1.00         2\n",
      "\n",
      "avg / total       0.92      0.88      0.87         8\n",
      "\n"
     ]
    }
   ],
   "source": [
    "from sklearn import svm, metrics\n",
    "import glob, os.path, re, json\n",
    "#glob = \n",
    "\n",
    "files = glob.glob(\"./samples/ch4/lang/train/*.txt\")\n",
    "train_data=[]\n",
    "train_label=[]\n",
    "for file_name in files:\n",
    "    basename = os.path.basename(file_name)\n",
    "    \n",
    "    #파일 별로 label 따내기\n",
    "    lang = basename.split(\"-\")[0]\n",
    "    \n",
    "    #with는 file open, close 동시에\n",
    "    file = open(file_name, \"r\", encoding=\"utf-8\")\n",
    "    text = file.read()\n",
    "    text = text.lower()\n",
    "    file.close()\n",
    "    \n",
    "    # 알파벳 출현 빈도 구하기\n",
    "    code_a = ord(\"a\")\n",
    "    code_z = ord(\"z\")\n",
    "    \n",
    "    count = [0 for n in range(0,26)]\n",
    "    \n",
    "    for character in text:\n",
    "        code_current = ord(character)\n",
    "        if code_a <= code_current <= code_z:\n",
    "            count[code_current - code_a]+=1\n",
    "    \n",
    "    #count 정규화 필요(0~1)\n",
    "    \n",
    "    total = sum(count)\n",
    "    #map(함수, 리스트), 리스트가 함수로 전해짐\n",
    "    count = list(map(lambda n: n/total, count))\n",
    "    \n",
    "    train_label.append(lang)\n",
    "    train_data.append(count)\n",
    "\n",
    "#이번엔 test\n",
    "files = glob.glob(\"./samples/ch4/lang/test/*.txt\")\n",
    "test_data=[]\n",
    "test_label=[]\n",
    "for file_name in files:\n",
    "    basename = os.path.basename(file_name)\n",
    "    \n",
    "    #파일 별로 label 따내기\n",
    "    lang = basename.split(\"-\")[0]\n",
    "    \n",
    "    #with는 file open, close 동시에\n",
    "    file = open(file_name, \"r\", encoding=\"utf-8\")\n",
    "    text = file.read()\n",
    "    text = text.lower()\n",
    "    file.close()\n",
    "    \n",
    "    # 알파벳 출현 빈도 구하기\n",
    "    code_a = ord(\"a\")\n",
    "    code_z = ord(\"z\")\n",
    "    \n",
    "    count = [0 for n in range(0,26)]\n",
    "    \n",
    "    for character in text:\n",
    "        code_current = ord(character)\n",
    "        if code_a <= code_current <= code_z:\n",
    "            count[code_current - code_a]+=1\n",
    "    \n",
    "    #count 정규화 필요(0~1)\n",
    "    \n",
    "    total = sum(count)\n",
    "    #map(함수, 리스트), 리스트가 함수로 전해짐\n",
    "    count = list(map(lambda n: n/total, count))\n",
    "    \n",
    "    test_label.append(lang)\n",
    "    test_data.append(count)    \n",
    "\n",
    "#알파벳 빈도로 언어 예측 학습 부분\n",
    "\n",
    "clf = svm.SVC()\n",
    "clf.fit(train_data, train_label)\n",
    "predict = clf.predict(test_data)\n",
    "score = metrics.accuracy_score(test_label,predict)\n",
    "\n",
    "print(\"정확도: \", score)\n",
    "#출력할때 편함.\n",
    "report = metrics.classification_report(test_label, predict)\n",
    "print(\"--- report ---\")\n",
    "print(report)"
   ]
  },
  {
   "cell_type": "code",
   "execution_count": 22,
   "metadata": {},
   "outputs": [
    {
     "name": "stdout",
     "output_type": "stream",
     "text": [
      "{'en': [0.07595212187159957, 0.012840043525571273, 0.04570184983677911, 0.04613710554951034, 0.10533188248095757, 0.015669205658324265, 0.019151251360174103, 0.043743199129488576, 0.07399347116430903, 0.0017410228509249185, 0.00544069640914037, 0.05375408052230685, 0.026332970620239392, 0.07747551686615888, 0.08966267682263329, 0.016539717083786723, 0.0, 0.07769314472252448, 0.061371055495103376, 0.08052230685527748, 0.02589771490750816, 0.009793253536452665, 0.014145810663764961, 0.0006528835690968443, 0.02002176278563656, 0.0004352557127312296], 'fr': [0.07873813798409848, 0.010451397794306233, 0.037253141831238776, 0.053282893049499874, 0.15048730443703515, 0.016222108232880224, 0.01070787381379841, 0.015516799179276737, 0.069376763272634, 0.0023082841754295974, 0.004103616311874839, 0.07027442934085663, 0.026801744036932546, 0.07219799948704796, 0.04917927673762503, 0.026032315978456014, 0.005898948448320082, 0.07508335470633495, 0.07162092844319057, 0.07758399589638369, 0.053475250064119004, 0.014298538086688895, 0.0007053090536034881, 0.003911259297255706, 0.003654783277763529, 0.0008335470633495768], 'id': [0.1260587942202292, 0.03238664673642252, 0.014449427005480818, 0.0343796711509716, 0.0966616841056303, 0.004484304932735426, 0.059790732436472344, 0.013951170901843548, 0.10463378176382661, 0.003986048829098156, 0.02491280518186348, 0.04833084205281515, 0.029397110114598904, 0.08619830592924764, 0.03736920777279522, 0.02491280518186348, 0.0, 0.07673143996013951, 0.06925759840558046, 0.046836073741903336, 0.04235176880916791, 0.003986048829098156, 0.0064773293472845045, 0.0014947683109118087, 0.009466865969108122, 0.0014947683109118087], 'tl': [0.2230594776501573, 0.024581169068695587, 0.00812056478162265, 0.01316848342965835, 0.02421537786231619, 0.003511595581242227, 0.09631282463969566, 0.01880166800790109, 0.08716804448021069, 0.0012802692223278951, 0.02703197015143756, 0.05084497768673641, 0.03021435364693833, 0.12722218157875484, 0.04473626454020045, 0.033543053624990854, 0.0008778988953105567, 0.017667715268124953, 0.04905260077547736, 0.05453946887116834, 0.027507498719730777, 0.0024508010827419707, 0.012400321896261614, 0.0005121076889311581, 0.020118516350866925, 0.0010607944985002562]}\n"
     ]
    },
    {
     "data": {
      "image/png": "[encoded data removed]",
      "text/plain": [
       "<matplotlib.figure.Figure at 0x1b1c42e9dd8>"
      ]
     },
     "metadata": {},
     "output_type": "display_data"
    }
   ],
   "source": [
    "import matplotlib.pyplot as plt\n",
    "import pandas as pd\n",
    "\n",
    "#그래프 준비\n",
    "graph_dict = {}\n",
    "for i in range(0, len(train_label)):\n",
    "    label = train_label[i]\n",
    "    data = train_data[i]\n",
    "    \n",
    "    if not (label in graph_dict):\n",
    "        graph_dict[label] = data\n",
    "        \n",
    "asclist = [[chr(n) for n in range(97,97+26)]]\n",
    "print(graph_dict)\n",
    "df = pd.DataFrame(graph_dict, index = asclist)\n",
    "\n",
    "#그래프 그리기\n",
    "plt.style.use('ggplot')\n",
    "df.plot(kind=\"bar\", subplots=True, ylim=(0,0.15))\n",
    "plt.savefig(\"lang-plot.png\")"
   ]
  },
  {
   "cell_type": "code",
   "execution_count": null,
   "metadata": {},
   "outputs": [],
   "source": []
  }
 ],
 "metadata": {
  "kernelspec": {
   "display_name": "Python 3",
   "language": "python",
   "name": "python3"
  },
  "language_info": {
   "codemirror_mode": {
    "name": "ipython",
    "version": 3
   },
   "file_extension": ".py",
   "mimetype": "text/x-python",
   "name": "python",
   "nbconvert_exporter": "python",
   "pygments_lexer": "ipython3",
   "version": "3.6.4"
  }
 },
 "nbformat": 4,
 "nbformat_minor": 2
}
