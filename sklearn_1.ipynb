{
 "cells": [
  {
   "cell_type": "code",
   "execution_count": 10,
   "metadata": {},
   "outputs": [
    {
     "name": "stdout",
     "output_type": "stream",
     "text": [
      "[0]\n"
     ]
    }
   ],
   "source": [
    "from sklearn import svm, metrics\n",
    "from sklearn.model_selection import train_test_split\n",
    "import pandas\n",
    "\n",
    "csv=pandas.read_csv(\"irisdata.csv\")\n",
    "data = csv[[\"SepalLength\", \"SepalWidth\", \"PetalLength\", \"PetalWidth\"]]\n",
    "label = csv[\"Name\"]\n",
    "\n",
    "train_data, test_data, train_label, test_label =\\\n",
    "train_test_split(data, label)\n",
    "\n",
    "clf = svm.SVC()\n",
    "clf.fit(train_data, train_label)\n",
    "results = clf.predict([[7.0,4.0,2.0,1.0]])\n",
    "\n",
    "print(results)\n",
    "\n",
    "# score = metrics.accuracy_score(results, test_label)\n",
    "# print(\"정답률: \", score)"
   ]
  },
  {
   "cell_type": "code",
   "execution_count": null,
   "metadata": {},
   "outputs": [],
   "source": []
  }
 ],
 "metadata": {
  "kernelspec": {
   "display_name": "Python 3",
   "language": "python",
   "name": "python3"
  },
  "language_info": {
   "codemirror_mode": {
    "name": "ipython",
    "version": 3
   },
   "file_extension": ".py",
   "mimetype": "text/x-python",
   "name": "python",
   "nbconvert_exporter": "python",
   "pygments_lexer": "ipython3",
   "version": "3.6.4"
  }
 },
 "nbformat": 4,
 "nbformat_minor": 2
}
