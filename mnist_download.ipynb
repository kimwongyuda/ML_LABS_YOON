{
 "cells": [
  {
   "cell_type": "code",
   "execution_count": 1,
   "metadata": {},
   "outputs": [
    {
     "name": "stdout",
     "output_type": "stream",
     "text": [
      "download: http://yann.lecun.com/exdb/mnist/train-images-idx3-ubyte.gz\n",
      "download: http://yann.lecun.com/exdb/mnist/train-labels-idx1-ubyte.gz\n",
      "download: http://yann.lecun.com/exdb/mnist/t10k-images-idx3-ubyte.gz\n",
      "download: http://yann.lecun.com/exdb/mnist/t10k-labels-idx1-ubyte.gz\n",
      "gzip: train-images-idx3-ubyte.gz\n",
      "gzip: train-labels-idx1-ubyte.gz\n",
      "gzip: t10k-images-idx3-ubyte.gz\n",
      "gzip: t10k-labels-idx1-ubyte.gz\n",
      "ok\n"
     ]
    }
   ],
   "source": [
    "import urllib.request as req\n",
    "import gzip, os, os.path\n",
    "\n",
    "savepath = \"./mnist\"\n",
    "baseurl = \"http://yann.lecun.com/exdb/mnist\"\n",
    "files = [\n",
    "    \"train-images-idx3-ubyte.gz\",\n",
    "    \"train-labels-idx1-ubyte.gz\",\n",
    "    \"t10k-images-idx3-ubyte.gz\",\n",
    "    \"t10k-labels-idx1-ubyte.gz\"]\n",
    "\n",
    "if not os.path.exists(savepath):\n",
    "    os.mkdir(savepath)\n",
    "\n",
    "for f in files:\n",
    "    url = baseurl + \"/\" + f\n",
    "    loc = savepath + \"/\" + f\n",
    "    print(\"download:\", url)\n",
    "    if not os.path.exists(loc):\n",
    "        req.urlretrieve(url, loc)\n",
    "\n",
    "for f in files:\n",
    "    gz_file = savepath + \"/\" + f\n",
    "    raw_file = savepath + \"/\" + f.replace(\".gz\", \"\")\n",
    "    print(\"gzip:\", f)\n",
    "    with gzip.open(gz_file, \"rb\") as fp:\n",
    "        body = fp.read()\n",
    "        with open(raw_file, \"wb\") as w:\n",
    "            w.write(body)\n",
    "print(\"ok\")"
   ]
  },
  {
   "cell_type": "code",
   "execution_count": 2,
   "metadata": {},
   "outputs": [],
   "source": [
    "import struct\n",
    "\n",
    "def to_csv(name, maxdata):\n",
    "    lbl_f = open(\"./mnist/\" + name + \"-labels-idx1-ubyte\", \"rb\")\n",
    "    img_f = open(\"./mnist/\" + name + \"-images-idx3-ubyte\", \"rb\")\n",
    "    csv_f = open(\"./mnist/\" + name + \".csv\", \"w\", encoding=\"utf-8\")\n",
    "\n",
    "    mag, lbl_count = struct.unpack(\">II\", lbl_f.read(8))\n",
    "    mag, img_count = struct.unpack(\">II\", img_f.read(8))\n",
    "    rows, cols = struct.unpack(\">II\", img_f.read(8))\n",
    "    pixels = rows * cols\n",
    "\n",
    "    res = []\n",
    "    for idx in range(lbl_count):\n",
    "        if idx > maxdata:\n",
    "            break\n",
    "        label = struct.unpack(\"B\", lbl_f.read(1))[0]\n",
    "        bdata = img_f.read(pixels)\n",
    "        sdata = list(map(lambda n: str(n), bdata))\n",
    "        csv_f.write(str(label)+\",\")\n",
    "        csv_f.write(\",\".join(sdata)+\"\\r\\n\")\n",
    "\n",
    "        if idx < 10:\n",
    "            s = \"P2 28 28 255\\n\"\n",
    "            s += \" \".join(sdata)\n",
    "            iname = \"./mnist/{0}-{1}-{2}.pgm\".format(name,idx,label)\n",
    "\n",
    "            with open(iname, \"w\", encoding=\"utf-8\") as f:\n",
    "                f.write(s)\n",
    "\n",
    "    csv_f.close()\n",
    "    lbl_f.close()\n",
    "    img_f.close()\n",
    "\n",
    "\n",
    "to_csv(\"train\", 1000)\n",
    "to_csv(\"t10k\", 500)"
   ]
  },
  {
   "cell_type": "code",
   "execution_count": null,
   "metadata": {},
   "outputs": [],
   "source": []
  }
 ],
 "metadata": {
  "kernelspec": {
   "display_name": "Python 3",
   "language": "python",
   "name": "python3"
  },
  "language_info": {
   "codemirror_mode": {
    "name": "ipython",
    "version": 3
   },
   "file_extension": ".py",
   "mimetype": "text/x-python",
   "name": "python",
   "nbconvert_exporter": "python",
   "pygments_lexer": "ipython3",
   "version": "3.6.4"
  }
 },
 "nbformat": 4,
 "nbformat_minor": 2
}
