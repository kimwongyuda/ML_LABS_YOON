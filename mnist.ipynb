{
 "cells": [
  {
   "cell_type": "code",
   "execution_count": 4,
   "metadata": {},
   "outputs": [
    {
     "name": "stdout",
     "output_type": "stream",
     "text": [
      "정답률:  0.7884231536926147\n"
     ]
    }
   ],
   "source": [
    "from sklearn import model_selection, svm, metrics\n",
    "import pandas\n",
    "\n",
    "train_csv = pandas.read_csv(\"./mnist/train.csv\", header=None)\n",
    "tk_csv = pandas.read_csv(\"./mnist/t10k.csv\", header=None)\n",
    "\n",
    "#data의 벡터 안에 숫자가 0~1의 실수로 정규화? 되어있는게 좋음(정답률 체크)\n",
    "def test(l):\n",
    "    output = []\n",
    "    for i in l:\n",
    "        output.append(float(i)/256)\n",
    "    return output\n",
    "\n",
    "train_csv_data = list(map(test,train_csv.iloc[:,1:].values))\n",
    "train_csv_label= train_csv[0].values\n",
    "tk_csv_data = list(map(test,tk_csv.iloc[:,1:].values))\n",
    "tk_csv_label= tk_csv[0].values\n",
    "\n",
    "clf = svm.SVC()\n",
    "clf.fit(train_csv_data, train_csv_label)\n",
    "predict = clf.predict(tk_csv_data)\n",
    "score = metrics.accuracy_score(tk_csv_label, predict)\n",
    "print(\"정답률: \", score)"
   ]
  },
  {
   "cell_type": "code",
   "execution_count": null,
   "metadata": {},
   "outputs": [],
   "source": []
  }
 ],
 "metadata": {
  "kernelspec": {
   "display_name": "Python 3",
   "language": "python",
   "name": "python3"
  },
  "language_info": {
   "codemirror_mode": {
    "name": "ipython",
    "version": 3
   },
   "file_extension": ".py",
   "mimetype": "text/x-python",
   "name": "python",
   "nbconvert_exporter": "python",
   "pygments_lexer": "ipython3",
   "version": "3.6.4"
  }
 },
 "nbformat": 4,
 "nbformat_minor": 2
}
