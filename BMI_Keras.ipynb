{
 "cells": [
  {
   "cell_type": "code",
   "execution_count": 6,
   "metadata": {},
   "outputs": [],
   "source": [
    "\n",
    "from keras.models import Sequential\n",
    "from keras.layers.core import Dense, Dropout, Activation\n",
    "from keras.callbacks import EarlyStopping\n",
    "import pandas as pd, numpy as np"
   ]
  },
  {
   "cell_type": "code",
   "execution_count": 14,
   "metadata": {},
   "outputs": [
    {
     "name": "stderr",
     "output_type": "stream",
     "text": [
      "C:\\ProgramData\\Anaconda3\\lib\\site-packages\\ipykernel_launcher.py:37: UserWarning: The `nb_epoch` argument in `fit` has been renamed `epochs`.\n"
     ]
    },
    {
     "name": "stdout",
     "output_type": "stream",
     "text": [
      "Train on 13500 samples, validate on 1500 samples\n",
      "Epoch 1/20\n",
      "13500/13500 [==============================] - 2s 127us/step - loss: 0.4992 - acc: 0.8027 - val_loss: 0.3069 - val_acc: 0.8660\n",
      "Epoch 2/20\n",
      " 1700/13500 [==>...........................] - ETA: 1s - loss: 0.2694 - acc: 0.9000"
     ]
    },
    {
     "name": "stderr",
     "output_type": "stream",
     "text": [
      "C:\\ProgramData\\Anaconda3\\lib\\site-packages\\keras\\callbacks.py:535: RuntimeWarning: Early stopping conditioned on metric `val_losos` which is not available. Available metrics are: val_loss,val_acc,loss,acc\n",
      "  (self.monitor, ','.join(list(logs.keys()))), RuntimeWarning\n"
     ]
    },
    {
     "name": "stdout",
     "output_type": "stream",
     "text": [
      "13500/13500 [==============================] - 1s 90us/step - loss: 0.2407 - acc: 0.9041 - val_loss: 0.1658 - val_acc: 0.9427\n",
      "Epoch 3/20\n",
      "13500/13500 [==============================] - 1s 88us/step - loss: 0.1878 - acc: 0.9167 - val_loss: 0.1113 - val_acc: 0.9780\n",
      "Epoch 4/20\n",
      "13500/13500 [==============================] - 1s 90us/step - loss: 0.1623 - acc: 0.9299 - val_loss: 0.2236 - val_acc: 0.8847\n",
      "Epoch 5/20\n",
      "13500/13500 [==============================] - 1s 93us/step - loss: 0.1573 - acc: 0.9313 - val_loss: 0.1158 - val_acc: 0.9493\n",
      "Epoch 6/20\n",
      "13500/13500 [==============================] - 1s 90us/step - loss: 0.1473 - acc: 0.9344 - val_loss: 0.0900 - val_acc: 0.9653\n",
      "Epoch 7/20\n",
      "13500/13500 [==============================] - 1s 92us/step - loss: 0.1384 - acc: 0.9402 - val_loss: 0.1088 - val_acc: 0.9447\n",
      "Epoch 8/20\n",
      "13500/13500 [==============================] - 1s 92us/step - loss: 0.1373 - acc: 0.9396 - val_loss: 0.1656 - val_acc: 0.9167\n",
      "Epoch 9/20\n",
      "13500/13500 [==============================] - 1s 92us/step - loss: 0.1246 - acc: 0.9465 - val_loss: 0.0622 - val_acc: 0.9893\n",
      "Epoch 10/20\n",
      "13500/13500 [==============================] - 1s 90us/step - loss: 0.1247 - acc: 0.9474 - val_loss: 0.1713 - val_acc: 0.9153\n",
      "Epoch 11/20\n",
      "13500/13500 [==============================] - 1s 92us/step - loss: 0.1204 - acc: 0.9475 - val_loss: 0.2391 - val_acc: 0.8927\n",
      "Epoch 12/20\n",
      "13500/13500 [==============================] - 1s 93us/step - loss: 0.1198 - acc: 0.9500 - val_loss: 0.0764 - val_acc: 0.9633\n",
      "Epoch 13/20\n",
      "13500/13500 [==============================] - 1s 93us/step - loss: 0.1166 - acc: 0.9507 - val_loss: 0.1027 - val_acc: 0.9467\n",
      "Epoch 14/20\n",
      "13500/13500 [==============================] - 1s 96us/step - loss: 0.1113 - acc: 0.9550 - val_loss: 0.0631 - val_acc: 0.9733\n",
      "Epoch 15/20\n",
      "13500/13500 [==============================] - 1s 95us/step - loss: 0.1139 - acc: 0.9541 - val_loss: 0.3866 - val_acc: 0.8613\n",
      "Epoch 16/20\n",
      "13500/13500 [==============================] - 1s 95us/step - loss: 0.1123 - acc: 0.9518 - val_loss: 0.0516 - val_acc: 0.9887\n",
      "Epoch 17/20\n",
      "13500/13500 [==============================] - 1s 97us/step - loss: 0.1070 - acc: 0.9557 - val_loss: 0.0544 - val_acc: 0.9833\n",
      "Epoch 18/20\n",
      "13500/13500 [==============================] - 1s 95us/step - loss: 0.0984 - acc: 0.9572 - val_loss: 0.2124 - val_acc: 0.9053\n",
      "Epoch 19/20\n",
      "13500/13500 [==============================] - 1s 96us/step - loss: 0.1059 - acc: 0.9557 - val_loss: 0.0471 - val_acc: 0.9920\n",
      "Epoch 20/20\n",
      "13500/13500 [==============================] - 1s 100us/step - loss: 0.1066 - acc: 0.9546 - val_loss: 0.0603 - val_acc: 0.9800\n",
      "4999/4999 [==============================] - 0s 58us/step\n",
      "loss, score:  [0.06391821235006966, 0.973594718955712]\n"
     ]
    }
   ],
   "source": [
    "csv = pd.read_csv(\"./samples/ch5/bmi.csv\")\n",
    "csv[\"weight\"] /= 100\n",
    "csv[\"height\"] /= 200\n",
    "\n",
    "bmi_class = {\n",
    "    \"thin\": [1,0,0],\n",
    "    \"normal\": [0,1,0],\n",
    "    \"fat\": [0,0,1]\n",
    "}\n",
    "\n",
    "y = np.empty((20000,3))\n",
    "\n",
    "for i, v in enumerate(csv[\"label\"]):\n",
    "    y[i] = bmi_class[v]\n",
    "    \n",
    "\n",
    "\n",
    "x = csv[[\"weight\", \"height\"]].as_matrix()\n",
    "\n",
    "x_train, y_train = x[1:15001], y[1:15001]\n",
    "x_test, y_test = x[15001:20001], y[15001:20001]\n",
    "\n",
    "model = Sequential()\n",
    "model.add(Dense(512,input_shape=(2,)))\n",
    "model.add(Activation('relu'))\n",
    "model.add(Dropout(0.1))\n",
    "model.add(Dense(512))\n",
    "model.add(Activation('relu'))\n",
    "model.add(Dropout(0.1))\n",
    "model.add(Dense(3))\n",
    "model.add(Activation('softmax'))\n",
    "\n",
    "model.compile(\"rmsprop\", \"categorical_crossentropy\", metrics=['accuracy'])\n",
    "\n",
    "model.fit(x_train, y_train, batch_size=100, nb_epoch=20, validation_split=0.1,\n",
    "         callbacks=[EarlyStopping(monitor='val_losos', patience=2)],\n",
    "         verbose =1)\n",
    "score=model.evaluate(x_test, y_test)\n",
    "\n",
    "\n",
    "print(\"loss, score: \", score ) #loss, accuracy"
   ]
  },
  {
   "cell_type": "code",
   "execution_count": null,
   "metadata": {},
   "outputs": [],
   "source": []
  }
 ],
 "metadata": {
  "kernelspec": {
   "display_name": "Python 3",
   "language": "python",
   "name": "python3"
  },
  "language_info": {
   "codemirror_mode": {
    "name": "ipython",
    "version": 3
   },
   "file_extension": ".py",
   "mimetype": "text/x-python",
   "name": "python",
   "nbconvert_exporter": "python",
   "pygments_lexer": "ipython3",
   "version": "3.6.4"
  }
 },
 "nbformat": 4,
 "nbformat_minor": 2
}
